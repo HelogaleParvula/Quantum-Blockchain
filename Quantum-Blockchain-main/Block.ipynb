{
 "cells": [
  {
   "cell_type": "code",
   "execution_count": 1,
   "id": "61833b85",
   "metadata": {},
   "outputs": [],
   "source": [
    "import hashlib\n",
    "from numpy import pi\n",
    "import os"
   ]
  },
  {
   "cell_type": "code",
   "execution_count": 3,
   "id": "deac7e9d",
   "metadata": {},
   "outputs": [
    {
     "name": "stdout",
     "output_type": "stream",
     "text": [
      "sha256 ->  c90899d20a6f425d2e0b0b5710d6adaacf18d17783c43557fa988b3b633566d9\n",
      "Longitud hexadecimal 64\n",
      "Hash dividido 1 c90899d20a6f425d2e0b0b5710d6adaa\n",
      "Hash dividido 2 cf18d17783c43557fa988b3b633566d9\n",
      "5.5721404437616755 4.027824542694354\n"
     ]
    }
   ],
   "source": [
    "ruta = os.getcwd() + '/Blocks/block' + str(1) + '.txt'\n",
    "\n",
    "with open(ruta, mode='rb') as objeto_fichero:\n",
    "    content = objeto_fichero.read()\n",
    "    sha1_hash = hashlib.sha1(content)\n",
    "    md5_hash = hashlib.md5(content)\n",
    "    sha256_hash = hashlib.sha256(content)\n",
    "    \n",
    "s = sha256_hash.hexdigest()\n",
    "\n",
    "print('sha256 -> ', s)\n",
    "\n",
    "print('Longitud hexadecimal', len(s))\n",
    "\n",
    "print('Hash dividido 1',s[0:32])\n",
    "print('Hash dividido 2',s[32:])\n",
    "\n",
    "θ = int(s[0:32],16) % (2*pi)\n",
    "ϕ = int(s[32:],16) % (2*pi)\n",
    "\n",
    "print(θ,ϕ)\n",
    "\n",
    "# i = str(int(s, 16))\n",
    "# print('Convertimos el hash a número', i)\n",
    "# print('Hash módulo 2pi', i % (2*pi))"
   ]
  },
  {
   "cell_type": "code",
   "execution_count": 46,
   "id": "e1daa7af",
   "metadata": {},
   "outputs": [],
   "source": [
    "class block:\n",
    "    \n",
    "    def __init__(self, number, t_path, prev_state):\n",
    "        '''Initialize block class.\n",
    "        \n",
    "        Input\n",
    "        - number: current block number\n",
    "        - t_path: transaction file path\n",
    "        - prev_state: previous block quantum state\n",
    "        \n",
    "        '''\n",
    "        \n",
    "        self.number = number\n",
    "        self.transaction = t_path\n",
    "        self.prev_state = prev_state\n",
    "        \n",
    "    def block_file(self):\n",
    "        '''Write block information in a text file: block number, previous state and transactions.'''\n",
    "        \n",
    "        transactions = [self.transaction]\n",
    "        block_path = 'Blocks/block' + str(self.number) + '.txt'\n",
    "        \n",
    "        with open(block_path, 'w+') as block_file:\n",
    "            \n",
    "            block_file.write('Block: ' + str(self.number) + '\\n' + '\\n')\n",
    "            block_file.write('Estado anterior: ' + self.prev_state + '\\n' + '\\n')\n",
    "            \n",
    "            for t in transactions:\n",
    "                with open(t) as infile:\n",
    "                    for line in infile:\n",
    "                        block_file.write(line)\n",
    "                block_file.write('\\n' + '\\n')\n",
    "            \n",
    "        \n",
    "    def sha256(self):\n",
    "        '''Create a hash from the block text file.'''\n",
    "        \n",
    "        self.block_file()\n",
    "        block_path = 'Blocks/block' + str(self.number) + '.csv'\n",
    "        \n",
    "        with open(block_path, mode='rb') as block_file:\n",
    "            content = block_file.read()\n",
    "            sha256_hash = hashlib.sha256(content)\n",
    "    \n",
    "        return sha256_hash.hexdigest()\n",
    "    \n",
    "    def state_parameters(self):\n",
    "        '''Create angles of the qubit from the block's hash.'''\n",
    "        \n",
    "        sha = self.sha256()\n",
    "        θ = int(sha[0:32],16) % (2*pi)\n",
    "        ϕ = int(sha[32:],16) % (2*pi)\n",
    "        \n",
    "        return θ, ϕ       \n",
    "    "
   ]
  },
  {
   "cell_type": "code",
   "execution_count": 42,
   "id": "6345ab08",
   "metadata": {},
   "outputs": [],
   "source": [
    "def transaction(t_number, node_1, wallet, sends, node_2):\n",
    "    '''Write transaction information in a file.\n",
    "    \n",
    "    Input: \n",
    "    - node_1: number of sending node\n",
    "    - wallet: money in node_1's wallet\n",
    "    - sends: money node_1 sends to node_2\n",
    "    - node_2: number of receiving node\n",
    "    \n",
    "    Output:\n",
    "    - t_path: path of transaction file\n",
    "    \n",
    "    '''\n",
    "    \n",
    "    t_path = 'Transactions/transaction' + str(t_number) + '.txt'\n",
    "    \n",
    "    with open(t_path, 'w+') as t:\n",
    "        t.write('Transaction number: ' + str(t_number) + '\\n')\n",
    "        t.write('Sending node: ' + str(node_1) + '\\n')\n",
    "        t.write('Wallet: ' + str(wallet) + '\\n')\n",
    "        t.write('Sends: ' + str(sends) + '\\n')\n",
    "        t.write('Receiving node: ' + str(sends))\n",
    "    \n",
    "    return t_path\n",
    "    "
   ]
  },
  {
   "cell_type": "code",
   "execution_count": 50,
   "id": "1b270023",
   "metadata": {},
   "outputs": [
    {
     "data": {
      "text/plain": [
       "'Transactions/transaction5.txt'"
      ]
     },
     "execution_count": 50,
     "metadata": {},
     "output_type": "execute_result"
    }
   ],
   "source": [
    "transaction(5, 5, 12, 6, 1)"
   ]
  },
  {
   "cell_type": "code",
   "execution_count": 55,
   "id": "9a1562c3",
   "metadata": {},
   "outputs": [],
   "source": [
    "block1 = block(10,transaction(22, 14, 45, 2, 42),'estado anterior')\n",
    "block_angles = block1.state_parameters()"
   ]
  },
  {
   "cell_type": "code",
   "execution_count": null,
   "id": "3292ca69",
   "metadata": {},
   "outputs": [],
   "source": [
    "import "
   ]
  }
 ],
 "metadata": {
  "kernelspec": {
   "display_name": "Python 3",
   "language": "python",
   "name": "python3"
  },
  "language_info": {
   "codemirror_mode": {
    "name": "ipython",
    "version": 3
   },
   "file_extension": ".py",
   "mimetype": "text/x-python",
   "name": "python",
   "nbconvert_exporter": "python",
   "pygments_lexer": "ipython3",
   "version": "3.8.8"
  }
 },
 "nbformat": 4,
 "nbformat_minor": 5
}
