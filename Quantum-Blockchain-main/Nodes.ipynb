{
 "cells": [
  {
   "cell_type": "code",
   "execution_count": 1,
   "metadata": {},
   "outputs": [],
   "source": [
    "class node: #Node definition\n",
    "    def __init__(self, name, connections):#DEBEN DEPENDER DEL BLOQUE TAMBIÉN\n",
    "        self.name=name\n",
    "        self.connections=connections\n",
    "        self.states={'Alice':False,'Bob':False,'Eve':False,'Paul':False}"
   ]
  },
  {
   "cell_type": "code",
   "execution_count": 2,
   "metadata": {},
   "outputs": [],
   "source": [
    "from qiskit import Aer\n",
    "from qiskit import QuantumCircuit, execute, assemble\n",
    "from numpy import pi, cos, sin, exp\n",
    "\n",
    "def random_state(n): #Function which gives a random Bloch sphere state using Hadamard gates\n",
    "\n",
    "    qc=QuantumCircuit(n,n)\n",
    "    \n",
    "    for q in range(n):\n",
    "        qc.h(q)\n",
    "    for q in range(n):\n",
    "        qc.measure(q,q)\n",
    "        \n",
    "    backend = Aer.get_backend('aer_simulator')\n",
    "    job=execute(qc,backend,shots=2)\n",
    "    result = job.result().get_counts()\n",
    "    result2 = list(result.keys())\n",
    "    \n",
    "    theta=int(result2[0],2)\n",
    "    phi=int(result2[1],2)\n",
    "    \n",
    "    while abs(phi)>pi:\n",
    "        phi=phi/2\n",
    "    while abs(theta)>2*pi:\n",
    "        theta=theta/2\n",
    "    \n",
    "    state=[cos(theta/2), sin(theta/2)*exp(1j*phi)]\n",
    "    \n",
    "    return state"
   ]
  },
  {
   "cell_type": "code",
   "execution_count": 3,
   "metadata": {},
   "outputs": [],
   "source": [
    "n1=node('Alice',['Bob','Eve']) #Defining the nodes\n",
    "n2=node('Bob',['Alice','Paul','Eve'])\n",
    "n3=node('Paul',['Bob','Eve'])\n",
    "n4=node('Eve',['Alice','Bob','Paul'])"
   ]
  },
  {
   "cell_type": "code",
   "execution_count": 4,
   "metadata": {},
   "outputs": [],
   "source": [
    "def verify(request):\n",
    "    '''Verity if two nodes are connected through the quantum channel.\n",
    "    \n",
    "    Input: \n",
    "    - Request: nodes to be verified \n",
    "    '''\n",
    "   \n",
    "    # If it is the case, the node which verifies the petitioner node assigns him/her a random state\n",
    "    for j in [n1,n2,n3,n4]:\n",
    "        if request.connections!=j:\n",
    "            for i in range(len(j.connections)):\n",
    "                if j.connections[i]==request.name:\n",
    "                    j.states[request.name] = random_state(7)"
   ]
  },
  {
   "cell_type": "code",
   "execution_count": 5,
   "metadata": {},
   "outputs": [
    {
     "name": "stdout",
     "output_type": "stream",
     "text": [
      "{'Alice': False, 'Bob': [-0.05417713502693632, (-0.44370197072139445+0.8945352979163115j)], 'Eve': [-0.3439108839469756, (-0.878695865564352+0.3310874200916187j)], 'Paul': False} {'Alice': [-0.3585402173062328, (-0.4912771389835679+0.7937856670954191j)], 'Bob': False, 'Eve': [-0.4721284112969602, (-0.39171179444002563+0.7897193383365914j)], 'Paul': [-0.29953350618957414, (0.515494747799724+0.8028355022423207j)]} {'Alice': False, 'Bob': [-0.3585402173062328, (-0.6306309436573155+0.6882975559130535j)], 'Eve': [-0.9243023786324636, (-0.3057652670860345+0.22841347223440206j)], 'Paul': False} {'Alice': [-0.3291975896777772, (-0.8727827425932512+0.36038761241439005j)], 'Bob': [-0.8011436155469337, (-0.5773306047105721+0.15766508850380317j)], 'Eve': False, 'Paul': [-0.11643894112485226, (-0.6239006926992784+0.7727806277586697j)]}\n"
     ]
    }
   ],
   "source": [
    "for i in [n1,n2,n3,n4]: #Verification process\n",
    "    verify(i)\n",
    "print(n1.states,n2.states,n3.states,n4.states)"
   ]
  },
  {
   "cell_type": "code",
   "execution_count": null,
   "metadata": {},
   "outputs": [],
   "source": []
  }
 ],
 "metadata": {
  "kernelspec": {
   "display_name": "Python 3",
   "language": "python",
   "name": "python3"
  },
  "language_info": {
   "codemirror_mode": {
    "name": "ipython",
    "version": 3
   },
   "file_extension": ".py",
   "mimetype": "text/x-python",
   "name": "python",
   "nbconvert_exporter": "python",
   "pygments_lexer": "ipython3",
   "version": "3.7.4"
  },
  "widgets": {
   "application/vnd.jupyter.widget-state+json": {
    "state": {},
    "version_major": 2,
    "version_minor": 0
   }
  }
 },
 "nbformat": 4,
 "nbformat_minor": 5
}
