{
 "cells": [
  {
   "cell_type": "code",
   "execution_count": null,
   "metadata": {},
   "outputs": [],
   "source": [
    "import pandas as pd \n",
    "\n",
    "df=pd.read_csv(block_path)\n",
    "\n",
    "def verify(block_path, node1, node2):\n",
    "    if df[['wallet_1']] < money:\n",
    "        raise Exception('Error: not enough funds in the wallet.')\n",
    "            \n",
    "def send(block_path, node1, money, node2):\n",
    "    verify(block_path, node1, money, node2)\n",
    "    transaction(block_path, node1, money, node2)#ojo\n",
    "    df=pd.write()"
   ]
  },
  {
   "cell_type": "code",
   "execution_count": 3,
   "metadata": {},
   "outputs": [
    {
     "ename": "Exception",
     "evalue": "Error: not enough funds in the wallet.",
     "output_type": "error",
     "traceback": [
      "\u001b[0;31m---------------------------------------------------------------------------\u001b[0m",
      "\u001b[0;31mException\u001b[0m                                 Traceback (most recent call last)",
      "\u001b[0;32m<ipython-input-3-30edff49df55>\u001b[0m in \u001b[0;36m<module>\u001b[0;34m\u001b[0m\n\u001b[1;32m      1\u001b[0m \u001b[0;32mif\u001b[0m \u001b[0;36m1\u001b[0m \u001b[0;34m<\u001b[0m \u001b[0;36m2\u001b[0m\u001b[0;34m:\u001b[0m\u001b[0;34m\u001b[0m\u001b[0;34m\u001b[0m\u001b[0m\n\u001b[0;32m----> 2\u001b[0;31m     \u001b[0;32mraise\u001b[0m \u001b[0mException\u001b[0m\u001b[0;34m(\u001b[0m\u001b[0;34m'Error: not enough funds in the wallet.'\u001b[0m\u001b[0;34m)\u001b[0m\u001b[0;34m\u001b[0m\u001b[0;34m\u001b[0m\u001b[0m\n\u001b[0m",
      "\u001b[0;31mException\u001b[0m: Error: not enough funds in the wallet."
     ]
    }
   ],
   "source": []
  },
  {
   "cell_type": "code",
   "execution_count": 38,
   "metadata": {},
   "outputs": [],
   "source": [
    "from qiskit import Aer\n",
    "from qiskit import QuantumCircuit, execute, assemble\n",
    "\n",
    "def random_numbers(nodes_number):\n",
    "    qc=QuantumCircuit(nodes_number,nodes_number)\n",
    "    for i in range(nodes_number-1):\n",
    "        qc.h(i)\n",
    "        qc.cx(i,nodes_number-1)\n",
    "    for i in range(nodes_number):\n",
    "        qc.measure(i,i)   \n",
    "    backend = Aer.get_backend('aer_simulator')\n",
    "    job=execute(qc,backend,shots=1)\n",
    "    result = job.result().get_counts()\n",
    "    \n",
    "    qc.draw('mpl')\n",
    "    \n",
    "    return result"
   ]
  },
  {
   "cell_type": "code",
   "execution_count": 89,
   "metadata": {},
   "outputs": [
    {
     "name": "stdout",
     "output_type": "stream",
     "text": [
      "[[0. 1. 1. 0. 0. 0. 1. 1. 0. 1.]\n",
      " [1. 1. 1. 1. 0. 1. 0. 1. 1. 0.]\n",
      " [1. 0. 0. 1. 1. 0. 0. 1. 1. 1.]\n",
      " [0. 0. 0. 0. 1. 1. 1. 1. 0. 0.]]\n"
     ]
    }
   ],
   "source": [
    "from numpy import empty\n",
    "\n",
    "random=[]\n",
    "N=10\n",
    "for i in range(N):    \n",
    "    random.append(list(random_numbers(4).keys()))\n",
    "    \n",
    "random2=[]\n",
    "\n",
    "random3=empty([4,N])\n",
    "for j in range(4):\n",
    "    random2=[]\n",
    "    for i in random:\n",
    "        random2.append(i[0][j])\n",
    "    random3[j,:]=random2\n",
    "\n",
    "print(random3)"
   ]
  },
  {
   "cell_type": "code",
   "execution_count": 87,
   "metadata": {},
   "outputs": [
    {
     "data": {
      "image/png": "[encoded data removed]",
      "text/plain": [
       "<Figure size 869.197x325.08 with 1 Axes>"
      ]
     },
     "execution_count": 87,
     "metadata": {},
     "output_type": "execute_result"
    }
   ],
   "source": [
    "nodes_number=4\n",
    "qc=QuantumCircuit(nodes_number,nodes_number)\n",
    "for i in range(nodes_number-1):\n",
    "    qc.h(i)\n",
    "    qc.cx(i,nodes_number-1)\n",
    "    qc.barrier()\n",
    "for i in range(nodes_number):\n",
    "    qc.measure(i,i)   \n",
    "backend = Aer.get_backend('aer_simulator')\n",
    "job=execute(qc,backend,shots=1)\n",
    "result = job.result().get_counts()\n",
    "qc.draw('mpl')"
   ]
  },
  {
   "cell_type": "code",
   "execution_count": null,
   "metadata": {},
   "outputs": [],
   "source": []
  },
  {
   "cell_type": "code",
   "execution_count": null,
   "metadata": {},
   "outputs": [],
   "source": []
  }
 ],
 "metadata": {
  "kernelspec": {
   "display_name": "Python 3",
   "language": "python",
   "name": "python3"
  },
  "language_info": {
   "codemirror_mode": {
    "name": "ipython",
    "version": 3
   },
   "file_extension": ".py",
   "mimetype": "text/x-python",
   "name": "python",
   "nbconvert_exporter": "python",
   "pygments_lexer": "ipython3",
   "version": "3.8.8"
  }
 },
 "nbformat": 4,
 "nbformat_minor": 2
}
